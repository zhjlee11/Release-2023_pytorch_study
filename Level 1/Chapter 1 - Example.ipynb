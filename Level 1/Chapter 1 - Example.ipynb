{
 "cells": [
  {
   "cell_type": "markdown",
   "id": "1a1e1cf3",
   "metadata": {},
   "source": [
    "# [Release] 2023 PyTorch Study : Level 1 Chapter 1 - Example\n",
    "*Copyright 2023. 이호준 all rights reserved.*\n",
    "\n",
    "-----\n",
    "\n",
    "「Level 1 Chapter 1 - Numpy」의 예제 코드입니다.\n",
    "\n",
    "해당 예제 코드에서는 벡터와 행렬 선언과 간단한 연산들에 대해서 배웁니다."
   ]
  },
  {
   "cell_type": "markdown",
   "id": "9efd58f7",
   "metadata": {},
   "source": [
    "## Numpy\n",
    "Numpy란, Python에서 **벡터**와 **행렬** 연산을 쉽게 할 수 있도록 도와주는 라이브러리입니다."
   ]
  },
  {
   "cell_type": "markdown",
   "id": "d82d673b",
   "metadata": {},
   "source": [
    "## Import\n",
    "numpy 라이브러리를 import합니다. 단, 이때 이후 사용 시 numpy가 아닌 np라는 약자로 사용할 수 있도록, `as np`를 붙입니다."
   ]
  },
  {
   "cell_type": "code",
   "execution_count": 2,
   "id": "dd804273",
   "metadata": {},
   "outputs": [],
   "source": [
    "import numpy as np"
   ]
  },
  {
   "cell_type": "markdown",
   "id": "80677f6c",
   "metadata": {},
   "source": [
    "## Numpy 배열 생성 및 간단한 조작\n",
    "Numpy 배열을 이용하여 벡터나 행렬을 선언합니다."
   ]
  },
  {
   "cell_type": "markdown",
   "id": "d7e0c894",
   "metadata": {},
   "source": [
    "### 1. 벡터"
   ]
  },
  {
   "cell_type": "code",
   "execution_count": 3,
   "id": "e41cdedd",
   "metadata": {},
   "outputs": [
    {
     "name": "stdout",
     "output_type": "stream",
     "text": [
      "[1 2 3 4 5]\n"
     ]
    }
   ],
   "source": [
    "vector1 = np.array([1, 2, 3, 4, 5]) # 리스트를 이용한 벡터 선언\n",
    "print(vector1)"
   ]
  },
  {
   "cell_type": "code",
   "execution_count": 7,
   "id": "9327cf4d",
   "metadata": {},
   "outputs": [],
   "source": [
    "vector2 = vector1.copy() # Numpy 배열 깊은 복사\n",
    "vector3 = vector1 # Numpy 배열 얕은 복사"
   ]
  },
  {
   "cell_type": "code",
   "execution_count": 10,
   "id": "bb78cbed",
   "metadata": {},
   "outputs": [
    {
     "name": "stdout",
     "output_type": "stream",
     "text": [
      "[1 2 6 4 5]\n",
      "[1 2 3 4 5]\n",
      "[1 2 6 4 5]\n"
     ]
    }
   ],
   "source": [
    "vector1[2] = 6 #원소 수정\n",
    "\n",
    "print(vector1)\n",
    "print(vector2) # 깊은 복사는 복사 시점부터 원본과 아예 분리되어 연산됨.\n",
    "print(vector3) # 얕은 복사는 원본이 수정되면 같이 수정됨."
   ]
  },
  {
   "cell_type": "code",
   "execution_count": 11,
   "id": "b993757d",
   "metadata": {},
   "outputs": [
    {
     "name": "stdout",
     "output_type": "stream",
     "text": [
      "6\n",
      "[2 6]\n"
     ]
    }
   ],
   "source": [
    "print(vector1[2]) # Numpy 배열 인덱싱\n",
    "print(vector1[1:3]) # Numpy 배열 슬라이싱"
   ]
  },
  {
   "cell_type": "code",
   "execution_count": 45,
   "id": "6ee2a3b3",
   "metadata": {},
   "outputs": [
    {
     "name": "stdout",
     "output_type": "stream",
     "text": [
      "[0. 0. 0. 0. 0. 0. 0. 0. 0. 0.]\n",
      "[1. 1. 1. 1. 1. 1. 1. 1. 1. 1.]\n",
      "[1 2 3 4 5 6 7 8 9]\n"
     ]
    }
   ],
   "source": [
    "print(np.zeros(10)) # 모든 원소가 0이며 크기가 10인 배열\n",
    "print(np.ones(10))  #모든 원소가 1이며 크기가 10인 배열\n",
    "print(np.arange(1, 10)) # 원소가 1~9까지로 이루어진 배열"
   ]
  },
  {
   "cell_type": "markdown",
   "id": "e4b23eb7",
   "metadata": {},
   "source": [
    "### 2. 행렬"
   ]
  },
  {
   "cell_type": "code",
   "execution_count": 13,
   "id": "21fb8c9e",
   "metadata": {},
   "outputs": [
    {
     "name": "stdout",
     "output_type": "stream",
     "text": [
      "[[1 2 3]\n",
      " [4 5 6]\n",
      " [7 8 9]]\n"
     ]
    }
   ],
   "source": [
    "matrix1 = np.array([[1, 2, 3],\n",
    "                   [4, 5, 6],\n",
    "                   [7, 8, 9]])\n",
    "print(matrix1)"
   ]
  },
  {
   "cell_type": "code",
   "execution_count": 14,
   "id": "a41893ee",
   "metadata": {},
   "outputs": [
    {
     "name": "stdout",
     "output_type": "stream",
     "text": [
      "[[ 1  2  3]\n",
      " [ 4 10  6]\n",
      " [ 7  8  9]]\n"
     ]
    }
   ],
   "source": [
    "matrix1[1,1] = 10 # 행렬 인덱싱\n",
    "print(matrix1)"
   ]
  },
  {
   "cell_type": "code",
   "execution_count": 18,
   "id": "d86f0da8",
   "metadata": {},
   "outputs": [
    {
     "name": "stdout",
     "output_type": "stream",
     "text": [
      "[ 2 10  8]\n"
     ]
    }
   ],
   "source": [
    "print(matrix1[:, 1]) #인덱싱이나 슬라이싱에서는 바깥쪽 차원부터 컨트롤"
   ]
  },
  {
   "cell_type": "code",
   "execution_count": 17,
   "id": "b8e01477",
   "metadata": {},
   "outputs": [
    {
     "name": "stdout",
     "output_type": "stream",
     "text": [
      "[ 4 10  6]\n"
     ]
    }
   ],
   "source": [
    "print(matrix1[1, :])"
   ]
  },
  {
   "cell_type": "markdown",
   "id": "8020dbca",
   "metadata": {},
   "source": [
    "## Numpy 배열 연산 - 상수배\n"
   ]
  },
  {
   "cell_type": "code",
   "execution_count": 36,
   "id": "ac617826",
   "metadata": {},
   "outputs": [
    {
     "name": "stdout",
     "output_type": "stream",
     "text": [
      "[ 5 10 15 20 25 30 35 40 45]\n",
      "[0 0 0 0 0 0 0 0 0]\n",
      "[-1 -2 -3 -4 -5 -6 -7 -8 -9]\n",
      "[0.1 0.2 0.3 0.4 0.5 0.6 0.7 0.8 0.9]\n"
     ]
    }
   ],
   "source": [
    "vector4 = np.array([1, 2, 3, 4, 5, 6, 7, 8, 9])\n",
    "\n",
    "print(vector4*5)\n",
    "print(vector4*0)\n",
    "print(vector4*(-1))\n",
    "print(vector4/10)"
   ]
  },
  {
   "cell_type": "markdown",
   "id": "5dbc94ef",
   "metadata": {},
   "source": [
    "## Numpy 배열 연산 - 상수 합차\n",
    "수학에서 행렬이나 벡터는 무조건 같은 차원을 가진 행렬이나 벡터끼리만 합차가 가능하지만, Numpy에서는 두 요소 중 하나가 상수라면 다른 한 요소와 동일한 크기를 가진 행렬이나 벡터로 자동으로 바꾸어 연산합니다.\n",
    "\n",
    "즉, 아래 예제의 경우 -5는 $[-5, -5, -5, -5, -5, -5, -5, -5, -5]$로 바뀌어 `vector4`에 더해집니다."
   ]
  },
  {
   "cell_type": "code",
   "execution_count": 21,
   "id": "092adbfe",
   "metadata": {},
   "outputs": [
    {
     "name": "stdout",
     "output_type": "stream",
     "text": [
      "[-4 -3 -2 -1  0  1  2  3  4]\n"
     ]
    }
   ],
   "source": [
    "vector5 = np.array([1, 2, 3, 4, 5, 6, 7, 8, 9])\n",
    "\n",
    "print(vector4-5)"
   ]
  },
  {
   "cell_type": "markdown",
   "id": "a5227f99",
   "metadata": {},
   "source": [
    "## Numpy 배열 연산 - 합차\n",
    "동일한 크기를 가진 배열끼리만 합차가 가능합니다."
   ]
  },
  {
   "cell_type": "code",
   "execution_count": 23,
   "id": "4166066f",
   "metadata": {},
   "outputs": [
    {
     "name": "stdout",
     "output_type": "stream",
     "text": [
      "[0 0 0 0 0]\n"
     ]
    }
   ],
   "source": [
    "vector6 = np.array([1, 2, 3, 4, 5])\n",
    "vector7 = np.array([-1, -2, -3, -4, -5])\n",
    "\n",
    "print(vector6 + vector7)"
   ]
  },
  {
   "cell_type": "markdown",
   "id": "b9320185",
   "metadata": {},
   "source": [
    "## Numpy 배열 연산 - 아다마르 곱 (원소곱)\n",
    "아다마르 곱은 동일한 위치에 있는 원소끼리 곱하는 연산으로,\n",
    "동일한 크기를 가진 배열끼리만 아다마르 곱이 가능합니다.\n",
    "\n",
    "```python\n",
    "np. muliply(배열1, 배열2)\n",
    "```"
   ]
  },
  {
   "cell_type": "code",
   "execution_count": 24,
   "id": "b9bbfb0d",
   "metadata": {},
   "outputs": [
    {
     "data": {
      "text/plain": [
       "array([[-1,  0],\n",
       "       [ 0,  4]])"
      ]
     },
     "execution_count": 24,
     "metadata": {},
     "output_type": "execute_result"
    }
   ],
   "source": [
    "matrix2 = np.array([[1, 2], [3, 4]])\n",
    "matrix3 = np.array([[-1, 0], [0, 1]])\n",
    "\n",
    "np.multiply(matrix2, matrix3) # 아다마르 곱을 해주는 함수"
   ]
  },
  {
   "attachments": {},
   "cell_type": "markdown",
   "id": "0862393e",
   "metadata": {},
   "source": [
    "## Numpy 배열 연산 - 행렬곱\n",
    "행렬곱의 연산 방법이 조금 복잡한데, 아래와 같은 형태로 연산됩니다.\n",
    "![matrix_muliplication_gif1](https://www.mscroggs.co.uk/img/full/multiply_matrices.gif)\n",
    "\n",
    "행렬곱은 두 행렬이 반드시 같은 차원을 가질 필요는 없습니다. \n",
    "\n",
    "이 특징을 이용하여 인공지능 구축을 하는 경우도 조금 있으니 아래를 알아두면 좋을 것 같습니다.\n",
    "\n",
    "> $m × n$의 차원을 가진 행렬과 $n × k$의 차원을 가진 행렬을 곱하면, $m × k$의 차원을 가진 행렬이 결과로 나옵니다."
   ]
  },
  {
   "cell_type": "code",
   "execution_count": 27,
   "id": "c6bb8e81",
   "metadata": {},
   "outputs": [
    {
     "name": "stdout",
     "output_type": "stream",
     "text": [
      "[[-14  12  11]\n",
      " [ -2   1  -6]\n",
      " [ -8   5   4]]\n",
      "[[-14  12  11]\n",
      " [ -2   1  -6]\n",
      " [ -8   5   4]]\n"
     ]
    }
   ],
   "source": [
    "matrix4 = np.array([[2, 5, 2],\n",
    "                   [1, 0, -2],\n",
    "                   [3, 1, 1]])\n",
    "matrix5 = np.array([[-2, 1, 0],\n",
    "                   [-2, 2, 1],\n",
    "                   [0, 0, 3]])\n",
    "\n",
    "print(np.matmul(matrix4, matrix5))\n",
    "# 또는\n",
    "print(matrix4 @ matrix5)"
   ]
  },
  {
   "cell_type": "markdown",
   "id": "d25bb3ef",
   "metadata": {},
   "source": [
    "## Numpy 배열 연산 - 전치\n",
    "가장 왼쪽 위 원소부터 가장 오른쪽 아래 원소로 내려오는 대각선을 기준으로 뒤집는 연산입니다. 행렬의 차원도 뒤집히기에 인공지능 구축 시 꽤 자주 쓰이는 연산입니다.\n",
    "\n",
    "행렬 $X$의 전치는 수식에서 $X^T$라고 쓰입니다. (전치, Transpose의 약자입니다.)"
   ]
  },
  {
   "cell_type": "code",
   "execution_count": 29,
   "id": "05ad547b",
   "metadata": {},
   "outputs": [
    {
     "name": "stdout",
     "output_type": "stream",
     "text": [
      "[[ 1  2  3  4  5]\n",
      " [ 6  7  8  9 10]\n",
      " [11 12 13 14 15]]\n",
      "[[ 1  6 11]\n",
      " [ 2  7 12]\n",
      " [ 3  8 13]\n",
      " [ 4  9 14]\n",
      " [ 5 10 15]]\n"
     ]
    }
   ],
   "source": [
    "matrix6 = np.array([[1, 2, 3, 4, 5],\n",
    "                   [6, 7, 8, 9, 10], \n",
    "                   [11, 12, 13, 14 ,15]])\n",
    "\n",
    "print(matrix6) # 원본 행렬\n",
    "print(matrix6.transpose()) # 전치된 행렬"
   ]
  },
  {
   "cell_type": "markdown",
   "id": "a78195e9",
   "metadata": {},
   "source": [
    "## Numpy 배열 연산 - 내적\n",
    "실제 내적과 연산 방법이 동일합니다.\n",
    "단, 스칼라 값을 요소로 하는 내적 연산이 오류가 나는 것은 아니지만, 사용을 지양하라고 하고 있습니다.\n",
    "\n",
    "더 자세한 정보는 아래 링크를 확인해주세요.\n",
    "\n",
    "https://jimmy-ai.tistory.com/75"
   ]
  },
  {
   "cell_type": "code",
   "execution_count": 32,
   "id": "6c4a3df3",
   "metadata": {},
   "outputs": [
    {
     "data": {
      "text/plain": [
       "array([[[1, 4],\n",
       "        [0, 0]],\n",
       "\n",
       "       [[2, 6],\n",
       "        [0, 0]]])"
      ]
     },
     "execution_count": 32,
     "metadata": {},
     "output_type": "execute_result"
    }
   ],
   "source": [
    "# n차원 x m차원(m >= 2)\n",
    "matrix7 = np.array([[1, 3], [2, 4]])\n",
    "matrix8 = np.array([[[1, 1], [0, 1]], [[0, 0], [0, 0]]])\n",
    "np.dot(matrix7, matrix8)"
   ]
  },
  {
   "cell_type": "markdown",
   "id": "bfc6b047",
   "metadata": {},
   "source": [
    "## Numpy 배열 연산 - 외적\n",
    "실제 외적과 연산 방법이 동일합니다."
   ]
  },
  {
   "cell_type": "code",
   "execution_count": 34,
   "id": "9260a836",
   "metadata": {},
   "outputs": [
    {
     "data": {
      "text/plain": [
       "array([ 0,  4, -2])"
      ]
     },
     "execution_count": 34,
     "metadata": {},
     "output_type": "execute_result"
    }
   ],
   "source": [
    "matrix9 = np.array([0, 1, 2])\n",
    "matrix10 = np.array([2, 0, 0]) \n",
    "np.cross(matrix9, matrix10)"
   ]
  },
  {
   "cell_type": "markdown",
   "id": "51bf4437",
   "metadata": {},
   "source": [
    "## Numpy 원소 자료형 조절\n",
    "Numpy 배열에 들어가는 원소에 따라 자료형이 지정됩니다. 이를 수정하는 방법입니다."
   ]
  },
  {
   "cell_type": "code",
   "execution_count": 42,
   "id": "94c37e39",
   "metadata": {},
   "outputs": [
    {
     "name": "stdout",
     "output_type": "stream",
     "text": [
      "[ 1 -2  3 -4  5 -6]\n",
      "[ 1. -2.  3. -4.  5. -6.]\n",
      "[b'1' b'-2' b'3' b'-4' b'5' b'-6']\n"
     ]
    }
   ],
   "source": [
    "vector8 = np.array([1, -2, 3, -4, 5, -6]) #원소가 모두 정수이니 정수형 배열\n",
    "\n",
    "print(vector8)\n",
    "print(vector8.astype(np.float64)) # 실수형 배열로 수정\n",
    "print(vector8.astype(np.string_)) # 문자열 배열로 수정 (잘 안쓰임)"
   ]
  },
  {
   "cell_type": "markdown",
   "id": "8c2fc23b",
   "metadata": {},
   "source": [
    "## Numpy 최대 원소, 최소 원소 찾기."
   ]
  },
  {
   "cell_type": "code",
   "execution_count": 48,
   "id": "f05b8bd6",
   "metadata": {},
   "outputs": [
    {
     "name": "stdout",
     "output_type": "stream",
     "text": [
      "5\n",
      "-9\n"
     ]
    }
   ],
   "source": [
    "matrix11 = np.array([[[5, 1], [0, -1]], [[0, -9], [0, 0]]])\n",
    "print(np.max(matrix11))\n",
    "print(np.min(matrix11))"
   ]
  },
  {
   "cell_type": "markdown",
   "id": "24651654",
   "metadata": {},
   "source": [
    "## Numpy 배열 차원 찾기"
   ]
  },
  {
   "cell_type": "code",
   "execution_count": 49,
   "id": "0b19caf5",
   "metadata": {},
   "outputs": [
    {
     "name": "stdout",
     "output_type": "stream",
     "text": [
      "(2, 2, 2)\n"
     ]
    }
   ],
   "source": [
    "matrix12 = np.array([[[5, 1], [0, -1]], [[0, -9], [0, 0]]])\n",
    "\n",
    "print(matrix12.shape)"
   ]
  },
  {
   "cell_type": "markdown",
   "id": "20575bd1",
   "metadata": {},
   "source": [
    "## Numpy 배열 Padding\n",
    "`np.pad`의 **pad_width**만큼 추가로 크기를 키워서 0으로 채웁니다."
   ]
  },
  {
   "cell_type": "code",
   "execution_count": 50,
   "id": "2a520335",
   "metadata": {},
   "outputs": [
    {
     "name": "stdout",
     "output_type": "stream",
     "text": [
      "[[0. 0. 0. 0. 0. 0. 0. 0. 0.]\n",
      " [0. 0. 0. 0. 0. 0. 0. 0. 0.]\n",
      " [0. 0. 1. 1. 1. 1. 1. 0. 0.]\n",
      " [0. 0. 1. 1. 1. 1. 1. 0. 0.]\n",
      " [0. 0. 1. 1. 1. 1. 1. 0. 0.]\n",
      " [0. 0. 1. 1. 1. 1. 1. 0. 0.]\n",
      " [0. 0. 1. 1. 1. 1. 1. 0. 0.]\n",
      " [0. 0. 0. 0. 0. 0. 0. 0. 0.]\n",
      " [0. 0. 0. 0. 0. 0. 0. 0. 0.]]\n"
     ]
    }
   ],
   "source": [
    "matrix13 = np.ones((5,5))\n",
    "print(np.pad(matrix13, pad_width=2, mode='constant', constant_values=0))"
   ]
  }
 ],
 "metadata": {
  "kernelspec": {
   "display_name": "Python 3 (ipykernel)",
   "language": "python",
   "name": "python3"
  },
  "language_info": {
   "codemirror_mode": {
    "name": "ipython",
    "version": 3
   },
   "file_extension": ".py",
   "mimetype": "text/x-python",
   "name": "python",
   "nbconvert_exporter": "python",
   "pygments_lexer": "ipython3",
   "version": "3.9.16"
  }
 },
 "nbformat": 4,
 "nbformat_minor": 5
}
