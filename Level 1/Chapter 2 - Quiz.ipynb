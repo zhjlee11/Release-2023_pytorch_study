{
 "cells": [
  {
   "cell_type": "markdown",
   "id": "10848529",
   "metadata": {},
   "source": [
    "# [Release] 2023 PyTorch Study : Level 1 Chapter 2 - Quiz\n",
    "*Copyright 2023. 이호준 all rights reserved.*\n",
    "\n",
    "-----\n",
    "\n",
    "「Level 1 Chapter 2 - Matplotlib」의 예제 코드입니다."
   ]
  },
  {
   "cell_type": "code",
   "execution_count": null,
   "id": "c9db1895",
   "metadata": {},
   "outputs": [],
   "source": []
  }
 ],
 "metadata": {
  "kernelspec": {
   "display_name": "Python 3 (ipykernel)",
   "language": "python",
   "name": "python3"
  },
  "language_info": {
   "codemirror_mode": {
    "name": "ipython",
    "version": 3
   },
   "file_extension": ".py",
   "mimetype": "text/x-python",
   "name": "python",
   "nbconvert_exporter": "python",
   "pygments_lexer": "ipython3",
   "version": "3.9.16"
  }
 },
 "nbformat": 4,
 "nbformat_minor": 5
}
