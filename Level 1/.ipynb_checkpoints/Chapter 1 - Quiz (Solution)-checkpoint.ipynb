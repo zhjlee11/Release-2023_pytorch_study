{
 "cells": [
  {
   "cell_type": "markdown",
   "id": "e140e111",
   "metadata": {},
   "source": [
    "# [Release] 2023 PyTorch Study : Level 1 Chapter 1 - Quiz (Solution)\n",
    "*Copyright 2023. 이호준 all rights reserved.*\n",
    "\n",
    "-----\n",
    "\n",
    "「Level 1 Chapter 1 - Numpy」의 Quiz 코드의 해설입니다."
   ]
  },
  {
   "cell_type": "markdown",
   "id": "2fb9084a",
   "metadata": {},
   "source": [
    "## Q1. Numpy 라이브러리를 \"np\"라는 약자로 Import 해보세요."
   ]
  },
  {
   "cell_type": "code",
   "execution_count": 4,
   "id": "fc15bdbc",
   "metadata": {},
   "outputs": [],
   "source": [
    "# 답안 코드를 작성하세요.\n",
    "\n",
    "import numpy as np"
   ]
  },
  {
   "cell_type": "markdown",
   "id": "8c699e5a",
   "metadata": {},
   "source": [
    "## Q2. 아래와 같은 연산을 해보세요.\n",
    "\n",
    "$$(A+B-3)^T × C^T$$"
   ]
  },
  {
   "cell_type": "code",
   "execution_count": 11,
   "id": "91b1a2b0",
   "metadata": {},
   "outputs": [],
   "source": [
    "A = np.array([[1, 2, 3],\n",
    "             [3, 2, 1]])\n",
    "\n",
    "B = np.array([[0.1, 0.2, 0.3],\n",
    "             [0.3, 0.2, 0.1]])\n",
    "\n",
    "C = np.array([[1, 5],\n",
    "             [6, 1],\n",
    "             [2, 4],\n",
    "             [7, 9]])"
   ]
  },
  {
   "cell_type": "code",
   "execution_count": 14,
   "id": "887bea44",
   "metadata": {},
   "outputs": [
    {
     "name": "stdout",
     "output_type": "stream",
     "text": [
      "[[ -0.4 -11.1  -2.6 -10.6]\n",
      " [ -4.8  -5.6  -4.8 -12.8]\n",
      " [ -9.2  -0.1  -7.  -15. ]]\n"
     ]
    }
   ],
   "source": [
    "# 답안 코드를 작성하세요.\n",
    "\n",
    "result = ((A+B-3).transpose() @ C.transpose())\n",
    "print(result)"
   ]
  },
  {
   "cell_type": "markdown",
   "id": "7305612c",
   "metadata": {},
   "source": [
    "## Q3. Q2에서 계산한 결과의 최대 원소와 최소 원소, 차원을 찾으세요."
   ]
  },
  {
   "cell_type": "code",
   "execution_count": 15,
   "id": "4feabf35",
   "metadata": {},
   "outputs": [
    {
     "name": "stdout",
     "output_type": "stream",
     "text": [
      "-0.10000000000000098\n",
      "-15.0\n",
      "(3, 4)\n"
     ]
    }
   ],
   "source": [
    "# 답안 코드를 작성하세요.\n",
    "\n",
    "print(np.max(result))\n",
    "print(np.min(result))\n",
    "print(result.shape)"
   ]
  },
  {
   "cell_type": "markdown",
   "id": "a9ee8730",
   "metadata": {},
   "source": [
    "## Q4. Q2에서 계산한 결과에 width 1로 padding을 해보세요."
   ]
  },
  {
   "cell_type": "code",
   "execution_count": 16,
   "id": "512305ed",
   "metadata": {},
   "outputs": [
    {
     "name": "stdout",
     "output_type": "stream",
     "text": [
      "[[  0.    0.    0.    0.    0.    0.    0.    0. ]\n",
      " [  0.    0.    0.    0.    0.    0.    0.    0. ]\n",
      " [  0.    0.   -0.4 -11.1  -2.6 -10.6   0.    0. ]\n",
      " [  0.    0.   -4.8  -5.6  -4.8 -12.8   0.    0. ]\n",
      " [  0.    0.   -9.2  -0.1  -7.  -15.    0.    0. ]\n",
      " [  0.    0.    0.    0.    0.    0.    0.    0. ]\n",
      " [  0.    0.    0.    0.    0.    0.    0.    0. ]]\n"
     ]
    }
   ],
   "source": [
    "# 답안 코드를 작성하세요.\n",
    "\n",
    "print(np.pad(result, pad_width=2, mode='constant', constant_values=0))"
   ]
  }
 ],
 "metadata": {
  "kernelspec": {
   "display_name": "Python 3 (ipykernel)",
   "language": "python",
   "name": "python3"
  },
  "language_info": {
   "codemirror_mode": {
    "name": "ipython",
    "version": 3
   },
   "file_extension": ".py",
   "mimetype": "text/x-python",
   "name": "python",
   "nbconvert_exporter": "python",
   "pygments_lexer": "ipython3",
   "version": "3.9.16"
  }
 },
 "nbformat": 4,
 "nbformat_minor": 5
}
